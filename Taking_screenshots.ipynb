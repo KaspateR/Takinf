{
 "cells": [
  {
   "cell_type": "code",
   "execution_count": 1,
   "id": "e0e80571-df63-4c89-b64c-cefcbb371a4a",
   "metadata": {},
   "outputs": [],
   "source": [
    "import pyscreenshot"
   ]
  },
  {
   "cell_type": "code",
   "execution_count": 2,
   "id": "c631d087-7afd-4885-b425-97a10435f4ac",
   "metadata": {},
   "outputs": [],
   "source": [
    "# To capture the screen \n",
    "image = pyscreenshot.grab() "
   ]
  },
  {
   "cell_type": "code",
   "execution_count": 3,
   "id": "5cc8831d-9b43-47f6-b76f-ba1b9b293022",
   "metadata": {},
   "outputs": [],
   "source": [
    "# To display the captured screenshot \n",
    "image.show() "
   ]
  },
  {
   "cell_type": "code",
   "execution_count": 4,
   "id": "02b13450-e140-4695-a2b7-ca33974fdea9",
   "metadata": {},
   "outputs": [],
   "source": [
    "# To save the screenshot \n",
    "image.save(\"screenshot.png\") "
   ]
  },
  {
   "cell_type": "code",
   "execution_count": null,
   "id": "679ff3e7-65df-4819-980b-218199f4b503",
   "metadata": {},
   "outputs": [],
   "source": []
  },
  {
   "cell_type": "code",
   "execution_count": null,
   "id": "58b5e4ac-f8d5-4a7e-add1-8871289e1636",
   "metadata": {},
   "outputs": [],
   "source": []
  }
 ],
 "metadata": {
  "kernelspec": {
   "display_name": "Python 3 (ipykernel)",
   "language": "python",
   "name": "python3"
  },
  "language_info": {
   "codemirror_mode": {
    "name": "ipython",
    "version": 3
   },
   "file_extension": ".py",
   "mimetype": "text/x-python",
   "name": "python",
   "nbconvert_exporter": "python",
   "pygments_lexer": "ipython3",
   "version": "3.11.7"
  }
 },
 "nbformat": 4,
 "nbformat_minor": 5
}
